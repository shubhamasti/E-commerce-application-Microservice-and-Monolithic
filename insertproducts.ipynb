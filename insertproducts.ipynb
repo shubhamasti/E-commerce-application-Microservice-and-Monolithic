{
 "cells": [
  {
   "cell_type": "code",
   "execution_count": 14,
   "metadata": {},
   "outputs": [],
   "source": [
    "import mysql.connector as m\n",
    "import random\n",
    "from faker import Faker"
   ]
  },
  {
   "cell_type": "code",
   "execution_count": 15,
   "metadata": {},
   "outputs": [],
   "source": [
    "con =m.connect(\n",
    "    host='localhost',\n",
    "    database='ecommerce_mono',\n",
    "    user='root',\n",
    "    password='root1234'\n",
    ")"
   ]
  },
  {
   "cell_type": "code",
   "execution_count": 16,
   "metadata": {},
   "outputs": [],
   "source": [
    "fake = Faker()\n",
    "\n",
    "# Generate fake products\n",
    "def generate_fake_product(product_id):\n",
    "    # Generate name based on a combination of categories and adjectives\n",
    "    name = fake.random_element([\"Men's\", \"Women's\", \"Kids'\", \"Unisex\"]) + ' ' + \\\n",
    "           fake.random_element([\"Casual\", \"Formal\", \"Sporty\", \"Trendy\"]) + ' ' + \\\n",
    "           fake.random_element([\"Shirt\", \"Dress\", \"Jeans\", \"Sneakers\", \"Jacket\", \"Skirt\", \"Boots\", \"Bag\"])\n",
    "    price = round(random.uniform(5.0, 100.0), 2)\n",
    "    description = fake.random_element([\"High quality \", \"Good quality \", \"Stylish \", \"Trendy \", \"New \"]) + name.lower() + \" made from \" + \\\n",
    "    fake.random_element([\"premium\", \"organic\", \"sustainable\", \"eco-friendly\"]) + \" materials.\"\n",
    "    stock = random.randint(0, 100)\n",
    "    return product_id, name, price, description, stock\n",
    "\n",
    "def populate_table(n):\n",
    "    cur = con.cursor()\n",
    "    fake_products = [generate_fake_product(id) for id in range(n)]\n",
    "    cur.executemany(\"INSERT INTO products VALUES (%s, %s, %s, %s, %s)\", fake_products)\n",
    "    con.commit()\n",
    "    cur.close()\n",
    "\n",
    "# Example: Generate 10 fake products\n",
    "populate_table(100)"
   ]
  },
  {
   "cell_type": "code",
   "execution_count": 17,
   "metadata": {},
   "outputs": [],
   "source": [
    "con.close()"
   ]
  },
  {
   "cell_type": "code",
   "execution_count": null,
   "metadata": {},
   "outputs": [],
   "source": []
  }
 ],
 "metadata": {
  "kernelspec": {
   "display_name": "flask",
   "language": "python",
   "name": "python3"
  },
  "language_info": {
   "codemirror_mode": {
    "name": "ipython",
    "version": 3
   },
   "file_extension": ".py",
   "mimetype": "text/x-python",
   "name": "python",
   "nbconvert_exporter": "python",
   "pygments_lexer": "ipython3",
   "version": "3.9.19"
  }
 },
 "nbformat": 4,
 "nbformat_minor": 2
}
